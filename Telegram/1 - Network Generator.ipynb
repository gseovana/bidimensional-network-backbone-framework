{
 "cells": [
  {
   "cell_type": "code",
   "execution_count": null,
   "id": "8c5d83c5-5852-48b1-a020-8d07cf6a3bac",
   "metadata": {},
   "outputs": [],
   "source": [
    "%%time\n",
    "\n",
    "import pandas as pd\n",
    "import numpy as np\n",
    "import networkx as nx\n",
    "import os\n",
    "\n",
    "# Ensure output directory exists\n",
    "os.makedirs('edgelist', exist_ok=True)\n",
    "\n",
    "# Datasets made available by:\n",
    "# Venâncio, Otavio R., et al. (2024). \n",
    "# \"Unraveling user coordination on Telegram: A comprehensive analysis of political mobilization during the 2022 Brazilian Presidential election.\" \n",
    "# Proceedings of the International AAAI Conference on Web and Social Media. Vol. 18.\n"
   ]
  }
 ],
 "metadata": {
  "kernelspec": {
   "display_name": "Python [conda env:.conda-c.ferreira_ENV]",
   "language": "python",
   "name": "conda-env-.conda-c.ferreira_ENV-py"
  },
  "language_info": {
   "codemirror_mode": {
    "name": "ipython",
    "version": 3
   },
   "file_extension": ".py",
   "mimetype": "text/x-python",
   "name": "python",
   "nbconvert_exporter": "python",
   "pygments_lexer": "ipython3",
   "version": "3.11.5"
  }
 },
 "nbformat": 4,
 "nbformat_minor": 5
}
